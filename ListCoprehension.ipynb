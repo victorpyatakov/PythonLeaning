{
 "metadata": {
  "language_info": {
   "codemirror_mode": {
    "name": "ipython",
    "version": 3
   },
   "file_extension": ".py",
   "mimetype": "text/x-python",
   "name": "python",
   "nbconvert_exporter": "python",
   "pygments_lexer": "ipython3",
   "version": "3.7.6-final"
  },
  "orig_nbformat": 2,
  "kernelspec": {
   "name": "python3",
   "display_name": "Python 3",
   "language": "python"
  }
 },
 "nbformat": 4,
 "nbformat_minor": 2,
 "cells": [
  {
   "cell_type": "code",
   "execution_count": 4,
   "metadata": {},
   "outputs": [
    {
     "output_type": "stream",
     "name": "stdout",
     "text": [
      "Classic:\nBefore [1, 2, 3, 4, 5]\nAfter [11, 12, 13, 14, 15]\n"
     ]
    }
   ],
   "source": [
    "print(\"Classic:\")\n",
    "my_list = [1, 2, 3, 4, 5]\n",
    "print(f\"Before {my_list}\")\n",
    "for i in range(len(my_list)):\n",
    "    my_list[i] += 10\n",
    "print(f\"After {my_list}\")\n"
   ]
  },
  {
   "cell_type": "code",
   "execution_count": 5,
   "metadata": {},
   "outputs": [
    {
     "output_type": "stream",
     "name": "stdout",
     "text": [
      "List Coprehension:\nBefore [1, 2, 3, 4, 5]\nAfter [11, 12, 13, 14, 15]\n"
     ]
    }
   ],
   "source": [
    "print(\"List Coprehension:\")\n",
    "my_list = [1, 2, 3, 4, 5]\n",
    "print(f\"Before {my_list}\")\n",
    "my_list = [it+10 for it in my_list]\n",
    "print(f\"After {my_list}\")\n"
   ]
  },
  {
   "cell_type": "code",
   "execution_count": 6,
   "metadata": {},
   "outputs": [
    {
     "output_type": "stream",
     "name": "stdout",
     "text": [
      "[1, 3, 5, 7, 9]\n"
     ]
    }
   ],
   "source": [
    "my_list = [x for x in range(10) if x % 2 != 0]\n",
    "print(my_list)"
   ]
  },
  {
   "cell_type": "code",
   "execution_count": 51,
   "metadata": {},
   "outputs": [
    {
     "output_type": "stream",
     "name": "stdout",
     "text": [
      "List Coprehension with condition:\nBefore [1.1981341293403975, -0.667894287945365, -2.8580248087740303, 0.28938461814040584, -0.16899465361199853, 0.5258808717795925, -2.1709565701037294, -19.144223844026907, -2.2993567423512338]\nAfter [1.1981341293403975, 0, 0, 0.28938461814040584, 0, 0.5258808717795925, 0, 0, 0]\n"
     ]
    }
   ],
   "source": [
    "import random\n",
    "print(\"List Coprehension with condition:\")\n",
    "my_list  = [ x*random.gauss(0,1) for x in range(1,10)] # нормальное распределние с 0 мат ожиданием и 1 дисперсией\n",
    "print(f\"Before {my_list}\")\n",
    "positive_list = [x if x > 0 else 0 for x in my_list]\n",
    "print(f\"After {positive_list}\")\n",
    "\n"
   ]
  },
  {
   "cell_type": "code",
   "execution_count": 53,
   "metadata": {},
   "outputs": [
    {
     "output_type": "stream",
     "name": "stdout",
     "text": [
      "Before [-0.6613574985680617, -0.9476727827876675, -1.131727827464232, 4.104469578736288, 0.8612523981818337, -2.9392222591559802, -3.5207441125467476, -8.550066523903945, 1.2264482498333136]\nAfter [0, 0, 0, 4.104469578736288, 0.8612523981818337, 0, 0, 0, 1.2264482498333136]\n"
     ]
    }
   ],
   "source": [
    "def test_func(value):\n",
    "    return value if value > 0 else 0\n",
    "\n",
    "my_list  = [ x*random.gauss(0,1) for x in range(1,10)]\n",
    "print(f\"Before {my_list}\")\n",
    "positive_list = [test_func(i) for i in my_list]\n",
    "print(f\"After {positive_list}\")\n"
   ]
  },
  {
   "cell_type": "code",
   "execution_count": 59,
   "metadata": {},
   "outputs": [
    {
     "output_type": "stream",
     "name": "stdout",
     "text": [
      "[[1, 2, 3, 4], [1, 2, 3, 4], [1, 2, 3, 4], [1, 2, 3, 4]]\n"
     ]
    }
   ],
   "source": [
    "matrix = [[i for i in range(1, 5)] for j in range(1, 5)]\n",
    "print(matrix)"
   ]
  },
  {
   "cell_type": "code",
   "execution_count": 66,
   "metadata": {},
   "outputs": [
    {
     "output_type": "stream",
     "name": "stdout",
     "text": [
      "Before: [10, 34, 56, 1, 1, 1, 3, 2, 102, 102] type is <class 'list'>\nAfter: {2, 34, 102, 10, 56} type is <class 'set'>\n"
     ]
    }
   ],
   "source": [
    "print(\"Create set from list using list comprehension\")\n",
    "my_list = [10, 34, 56 , 1, 1, 1, 3, 2, 102, 102]\n",
    "print(f\"Before: {my_list} type is {type(my_list)}\")\n",
    "my_set = {i for i in my_list if i%2==0}\n",
    "print(f\"After: {my_set} type is {type(my_set)}\")"
   ]
  },
  {
   "cell_type": "code",
   "execution_count": 67,
   "metadata": {},
   "outputs": [
    {
     "output_type": "stream",
     "name": "stdout",
     "text": [
      "Create dictionsry using list comprehension\nDictionary: {0: 0, 1: 1, 2: 4, 3: 9, 4: 16, 5: 25, 6: 36, 7: 49, 8: 64, 9: 81}\n"
     ]
    }
   ],
   "source": [
    "print(\"Create dictionsry using list comprehension\")\n",
    "my_dict  = {i: i*i for i in range(10)}\n",
    "print(f\"Dictionary: {my_dict}\")"
   ]
  },
  {
   "cell_type": "code",
   "execution_count": null,
   "metadata": {},
   "outputs": [],
   "source": []
  }
 ]
}