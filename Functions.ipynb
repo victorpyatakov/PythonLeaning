{
 "metadata": {
  "language_info": {
   "codemirror_mode": {
    "name": "ipython",
    "version": 3
   },
   "file_extension": ".py",
   "mimetype": "text/x-python",
   "name": "python",
   "nbconvert_exporter": "python",
   "pygments_lexer": "ipython3",
   "version": "3.7.6-final"
  },
  "orig_nbformat": 2,
  "kernelspec": {
   "name": "python3",
   "display_name": "Python 3",
   "language": "python"
  }
 },
 "nbformat": 4,
 "nbformat_minor": 2,
 "cells": [
  {
   "cell_type": "code",
   "execution_count": 2,
   "metadata": {},
   "outputs": [
    {
     "output_type": "stream",
     "name": "stdout",
     "text": [
      "Scope variable:\n15\n4\n5\n"
     ]
    }
   ],
   "source": [
    "print(\"Scope variable:\")\n",
    "x = 5\n",
    "def test_func(y):\n",
    "    x = 4\n",
    "    def in_test_func(z):\n",
    "        x = 3\n",
    "        print(z+x+y)\n",
    "    in_test_func(x+y)\n",
    "    print(x)\n",
    "test_func(4)\n",
    "print(x)"
   ]
  },
  {
   "cell_type": "code",
   "execution_count": 5,
   "metadata": {},
   "outputs": [
    {
     "output_type": "stream",
     "name": "stdout",
     "text": [
      "14\n10\n"
     ]
    }
   ],
   "source": [
    "x = 5\n",
    "def test(y):\n",
    "    global x # определение для глоабальной переменной\n",
    "    x = 10\n",
    "    print (x+y)\n",
    "test(4)\n",
    "print(x)"
   ]
  },
  {
   "cell_type": "code",
   "execution_count": 7,
   "metadata": {},
   "outputs": [
    {
     "output_type": "stream",
     "name": "stdout",
     "text": [
      "15\n3\n5\n"
     ]
    }
   ],
   "source": [
    "x = 5\n",
    "def test_func(y):\n",
    "    x = 4\n",
    "    def in_test_func(z):\n",
    "        nonlocal x # указывает что необходимо ссылаться не на локальную переменную, а на переменную в объемлющей функции \n",
    "        x = 3\n",
    "        print(z+x+y)\n",
    "    in_test_func(x+y)\n",
    "    print(x)\n",
    "test_func(4)\n",
    "print(x)"
   ]
  },
  {
   "cell_type": "code",
   "execution_count": 8,
   "metadata": {},
   "outputs": [
    {
     "output_type": "stream",
     "name": "stdout",
     "text": [
      "15\n4\n3\n"
     ]
    }
   ],
   "source": [
    "x = 5\n",
    "def test_func(y):\n",
    "    x = 4\n",
    "    def in_test_func(z):\n",
    "        global x # указывает что необходимо ссылаться не на локальную переменную, а на переменную в функции обертке\n",
    "        x = 3\n",
    "        print(z+x+y)\n",
    "    in_test_func(x+y)\n",
    "    print(x)\n",
    "test_func(4)\n",
    "print(x)"
   ]
  },
  {
   "cell_type": "code",
   "execution_count": 10,
   "metadata": {},
   "outputs": [
    {
     "output_type": "stream",
     "name": "stdout",
     "text": [
      "Closures in python:\n8\n27\n64\n"
     ]
    }
   ],
   "source": [
    "print(\"Closures in python:\")\n",
    "\"\"\"\n",
    "Как видно из приведенного выше примера, мы имеем дело с  замыканием в Python, когда вложенная функция ссылается на значение из локальной области видимости объемлющей функции.\n",
    "\n",
    "Критерии, которые должны быть выполнены для создания замыкания в Python, изложены в следующих пунктах:\n",
    "\n",
    "    У нас должна быть вложенная функция (функция внутри функции).\n",
    "    Вложенная функция должна ссылаться на значение, определенное в объемлющей функции.\n",
    "    Объемлющая функция должна возвращать вложенную функцию.\n",
    "\"\"\"\n",
    "def maker(N):\n",
    "    def action(X):\n",
    "        return X ** N\n",
    "    return action\n",
    "\n",
    "my_func = maker(3)\n",
    "print(my_func(2))\n",
    "print(my_func(3))\n",
    "print(my_func(4))"
   ]
  },
  {
   "cell_type": "code",
   "execution_count": 11,
   "metadata": {},
   "outputs": [
    {
     "output_type": "stream",
     "name": "stdout",
     "text": [
      "8\n27\n64\n"
     ]
    }
   ],
   "source": [
    "def maker(N):\n",
    "    return lambda X: X ** N # тоже самое с использованием лямбда функций\n",
    "\n",
    "my_func = maker(3)\n",
    "print(my_func(2))\n",
    "print(my_func(3))\n",
    "print(my_func(4)) "
   ]
  },
  {
   "cell_type": "code",
   "execution_count": 13,
   "metadata": {},
   "outputs": [
    {
     "output_type": "error",
     "ename": "UnboundLocalError",
     "evalue": "local variable 'state' referenced before assignment",
     "traceback": [
      "\u001b[1;31m---------------------------------------------------------------------------\u001b[0m",
      "\u001b[1;31mUnboundLocalError\u001b[0m                         Traceback (most recent call last)",
      "\u001b[1;32m<ipython-input-13-7b25ce45efdc>\u001b[0m in \u001b[0;36m<module>\u001b[1;34m\u001b[0m\n\u001b[0;32m      7\u001b[0m \u001b[1;33m\u001b[0m\u001b[0m\n\u001b[0;32m      8\u001b[0m \u001b[0mF\u001b[0m \u001b[1;33m=\u001b[0m \u001b[0mcounter\u001b[0m\u001b[1;33m(\u001b[0m\u001b[1;36m0\u001b[0m\u001b[1;33m)\u001b[0m\u001b[1;33m\u001b[0m\u001b[1;33m\u001b[0m\u001b[0m\n\u001b[1;32m----> 9\u001b[1;33m \u001b[0mF\u001b[0m\u001b[1;33m(\u001b[0m\u001b[1;36m3\u001b[0m\u001b[1;33m)\u001b[0m\u001b[1;33m\u001b[0m\u001b[1;33m\u001b[0m\u001b[0m\n\u001b[0m",
      "\u001b[1;32m<ipython-input-13-7b25ce45efdc>\u001b[0m in \u001b[0;36madder\u001b[1;34m(X)\u001b[0m\n\u001b[0;32m      2\u001b[0m     \u001b[0mstate\u001b[0m \u001b[1;33m=\u001b[0m \u001b[0mstart\u001b[0m\u001b[1;33m\u001b[0m\u001b[1;33m\u001b[0m\u001b[0m\n\u001b[0;32m      3\u001b[0m     \u001b[1;32mdef\u001b[0m \u001b[0madder\u001b[0m\u001b[1;33m(\u001b[0m\u001b[0mX\u001b[0m\u001b[1;33m)\u001b[0m\u001b[1;33m:\u001b[0m\u001b[1;33m\u001b[0m\u001b[1;33m\u001b[0m\u001b[0m\n\u001b[1;32m----> 4\u001b[1;33m         \u001b[0mprint\u001b[0m\u001b[1;33m(\u001b[0m\u001b[0mX\u001b[0m \u001b[1;33m+\u001b[0m \u001b[0mstate\u001b[0m\u001b[1;33m)\u001b[0m\u001b[1;33m\u001b[0m\u001b[1;33m\u001b[0m\u001b[0m\n\u001b[0m\u001b[0;32m      5\u001b[0m         \u001b[0mstate\u001b[0m \u001b[1;33m+=\u001b[0m \u001b[1;36m1\u001b[0m\u001b[1;33m\u001b[0m\u001b[1;33m\u001b[0m\u001b[0m\n\u001b[0;32m      6\u001b[0m     \u001b[1;32mreturn\u001b[0m \u001b[0madder\u001b[0m\u001b[1;33m\u001b[0m\u001b[1;33m\u001b[0m\u001b[0m\n",
      "\u001b[1;31mUnboundLocalError\u001b[0m: local variable 'state' referenced before assignment"
     ]
    }
   ],
   "source": [
    "def counter(start):\n",
    "    state = start\n",
    "    def adder(X):\n",
    "        print(X + state)\n",
    "        state += 1\n",
    "    return adder\n",
    "\n",
    "F = counter(0)\n",
    "F(3)"
   ]
  },
  {
   "cell_type": "code",
   "execution_count": 12,
   "metadata": {},
   "outputs": [
    {
     "output_type": "stream",
     "name": "stdout",
     "text": [
      "8\n11\n"
     ]
    }
   ],
   "source": [
    "def counter(start):\n",
    "    state = start\n",
    "    def adder(X):\n",
    "        nonlocal state\n",
    "        print(X + state)\n",
    "        state += 1\n",
    "    return adder\n",
    "\n",
    "F = counter(5)\n",
    "F(3)\n",
    "F(5)"
   ]
  },
  {
   "cell_type": "code",
   "execution_count": 14,
   "metadata": {},
   "outputs": [
    {
     "output_type": "error",
     "ename": "SyntaxError",
     "evalue": "no binding for nonlocal 'state' found (<ipython-input-14-7057eaf8a7a6>, line 3)",
     "traceback": [
      "\u001b[1;36m  File \u001b[1;32m\"<ipython-input-14-7057eaf8a7a6>\"\u001b[1;36m, line \u001b[1;32m3\u001b[0m\n\u001b[1;33m    nonlocal state\u001b[0m\n\u001b[1;37m    ^\u001b[0m\n\u001b[1;31mSyntaxError\u001b[0m\u001b[1;31m:\u001b[0m no binding for nonlocal 'state' found\n"
     ]
    }
   ],
   "source": [
    "def counter(start):\n",
    "    def adder(X):\n",
    "        nonlocal state\n",
    "        state = start\n",
    "        print(X + state)\n",
    "        state += 1\n",
    "    return adder\n",
    "\n",
    "F = counter(5)\n",
    "\n"
   ]
  },
  {
   "cell_type": "code",
   "execution_count": 15,
   "metadata": {},
   "outputs": [
    {
     "output_type": "error",
     "ename": "SyntaxError",
     "evalue": "no binding for nonlocal 'state' found (<ipython-input-15-6d600820655a>, line 4)",
     "traceback": [
      "\u001b[1;36m  File \u001b[1;32m\"<ipython-input-15-6d600820655a>\"\u001b[1;36m, line \u001b[1;32m4\u001b[0m\n\u001b[1;33m    nonlocal state\u001b[0m\n\u001b[1;37m    ^\u001b[0m\n\u001b[1;31mSyntaxError\u001b[0m\u001b[1;31m:\u001b[0m no binding for nonlocal 'state' found\n"
     ]
    }
   ],
   "source": [
    "state = 10\n",
    "def counter(start):\n",
    "    def adder(X):\n",
    "        nonlocal state\n",
    "        state = start\n",
    "        print(X + state)\n",
    "        state += 1\n",
    "    return adder\n",
    "\n",
    "F = counter(5)\n",
    "F(1)\n",
    "F(2)\n",
    "print(state)"
   ]
  },
  {
   "cell_type": "code",
   "execution_count": 16,
   "metadata": {},
   "outputs": [
    {
     "output_type": "stream",
     "name": "stdout",
     "text": [
      "6\n7\n6\n"
     ]
    }
   ],
   "source": [
    "state = 10\n",
    "def counter(start):\n",
    "    def adder(X):\n",
    "        global state\n",
    "        state = start\n",
    "        print(X + state)\n",
    "        state += 1\n",
    "    return adder\n",
    "\n",
    "F = counter(5)\n",
    "F(1)\n",
    "F(2)\n",
    "print(state)"
   ]
  },
  {
   "cell_type": "code",
   "execution_count": null,
   "metadata": {},
   "outputs": [],
   "source": []
  }
 ]
}